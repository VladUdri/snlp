{
  "nbformat": 4,
  "nbformat_minor": 0,
  "metadata": {
    "colab": {
      "provenance": []
    },
    "kernelspec": {
      "name": "python3",
      "display_name": "Python 3"
    },
    "language_info": {
      "name": "python"
    }
  },
  "cells": [
    {
      "cell_type": "code",
      "execution_count": 20,
      "metadata": {
        "colab": {
          "base_uri": "https://localhost:8080/",
          "height": 1000
        },
        "id": "-1xXeeyySj1N",
        "outputId": "11ac1e60-66bd-4f9f-cfa3-f9f1182aa237"
      },
      "outputs": [
        {
          "output_type": "stream",
          "name": "stdout",
          "text": [
            "Looking in indexes: https://pypi.org/simple, https://us-python.pkg.dev/colab-wheels/public/simple/\n",
            "Requirement already satisfied: transformers in /usr/local/lib/python3.9/dist-packages (4.27.4)\n",
            "Requirement already satisfied: huggingface-hub<1.0,>=0.11.0 in /usr/local/lib/python3.9/dist-packages (from transformers) (0.13.3)\n",
            "Requirement already satisfied: requests in /usr/local/lib/python3.9/dist-packages (from transformers) (2.27.1)\n",
            "Requirement already satisfied: numpy>=1.17 in /usr/local/lib/python3.9/dist-packages (from transformers) (1.22.4)\n",
            "Requirement already satisfied: filelock in /usr/local/lib/python3.9/dist-packages (from transformers) (3.10.7)\n",
            "Requirement already satisfied: tokenizers!=0.11.3,<0.14,>=0.11.1 in /usr/local/lib/python3.9/dist-packages (from transformers) (0.13.2)\n",
            "Requirement already satisfied: packaging>=20.0 in /usr/local/lib/python3.9/dist-packages (from transformers) (23.0)\n",
            "Requirement already satisfied: regex!=2019.12.17 in /usr/local/lib/python3.9/dist-packages (from transformers) (2022.10.31)\n",
            "Requirement already satisfied: tqdm>=4.27 in /usr/local/lib/python3.9/dist-packages (from transformers) (4.65.0)\n",
            "Requirement already satisfied: pyyaml>=5.1 in /usr/local/lib/python3.9/dist-packages (from transformers) (6.0)\n",
            "Requirement already satisfied: typing-extensions>=3.7.4.3 in /usr/local/lib/python3.9/dist-packages (from huggingface-hub<1.0,>=0.11.0->transformers) (4.5.0)\n",
            "Requirement already satisfied: urllib3<1.27,>=1.21.1 in /usr/local/lib/python3.9/dist-packages (from requests->transformers) (1.26.15)\n",
            "Requirement already satisfied: idna<4,>=2.5 in /usr/local/lib/python3.9/dist-packages (from requests->transformers) (3.4)\n",
            "Requirement already satisfied: certifi>=2017.4.17 in /usr/local/lib/python3.9/dist-packages (from requests->transformers) (2022.12.7)\n",
            "Requirement already satisfied: charset-normalizer~=2.0.0 in /usr/local/lib/python3.9/dist-packages (from requests->transformers) (2.0.12)\n",
            "Found existing installation: transformers 4.27.4\n",
            "Uninstalling transformers-4.27.4:\n",
            "  Would remove:\n",
            "    /usr/local/bin/transformers-cli\n",
            "    /usr/local/lib/python3.9/dist-packages/transformers-4.27.4.dist-info/*\n",
            "    /usr/local/lib/python3.9/dist-packages/transformers/*\n",
            "Proceed (Y/n)? y\n",
            "  Successfully uninstalled transformers-4.27.4\n",
            "Found existing installation: sentencepiece 0.1.97\n",
            "Uninstalling sentencepiece-0.1.97:\n",
            "  Would remove:\n",
            "    /usr/local/lib/python3.9/dist-packages/sentencepiece-0.1.97.dist-info/*\n",
            "    /usr/local/lib/python3.9/dist-packages/sentencepiece/*\n",
            "Proceed (Y/n)? y\n",
            "  Successfully uninstalled sentencepiece-0.1.97\n",
            "Looking in indexes: https://pypi.org/simple, https://us-python.pkg.dev/colab-wheels/public/simple/\n",
            "Collecting transformers\n",
            "  Using cached transformers-4.27.4-py3-none-any.whl (6.8 MB)\n",
            "Collecting sentencepiece\n",
            "  Using cached sentencepiece-0.1.97-cp39-cp39-manylinux_2_17_x86_64.manylinux2014_x86_64.whl (1.3 MB)\n",
            "Requirement already satisfied: tqdm>=4.27 in /usr/local/lib/python3.9/dist-packages (from transformers) (4.65.0)\n",
            "Requirement already satisfied: huggingface-hub<1.0,>=0.11.0 in /usr/local/lib/python3.9/dist-packages (from transformers) (0.13.3)\n",
            "Requirement already satisfied: regex!=2019.12.17 in /usr/local/lib/python3.9/dist-packages (from transformers) (2022.10.31)\n",
            "Requirement already satisfied: tokenizers!=0.11.3,<0.14,>=0.11.1 in /usr/local/lib/python3.9/dist-packages (from transformers) (0.13.2)\n",
            "Requirement already satisfied: packaging>=20.0 in /usr/local/lib/python3.9/dist-packages (from transformers) (23.0)\n",
            "Requirement already satisfied: numpy>=1.17 in /usr/local/lib/python3.9/dist-packages (from transformers) (1.22.4)\n",
            "Requirement already satisfied: pyyaml>=5.1 in /usr/local/lib/python3.9/dist-packages (from transformers) (6.0)\n",
            "Requirement already satisfied: requests in /usr/local/lib/python3.9/dist-packages (from transformers) (2.27.1)\n",
            "Requirement already satisfied: filelock in /usr/local/lib/python3.9/dist-packages (from transformers) (3.10.7)\n",
            "Requirement already satisfied: typing-extensions>=3.7.4.3 in /usr/local/lib/python3.9/dist-packages (from huggingface-hub<1.0,>=0.11.0->transformers) (4.5.0)\n",
            "Requirement already satisfied: charset-normalizer~=2.0.0 in /usr/local/lib/python3.9/dist-packages (from requests->transformers) (2.0.12)\n",
            "Requirement already satisfied: certifi>=2017.4.17 in /usr/local/lib/python3.9/dist-packages (from requests->transformers) (2022.12.7)\n",
            "Requirement already satisfied: urllib3<1.27,>=1.21.1 in /usr/local/lib/python3.9/dist-packages (from requests->transformers) (1.26.15)\n",
            "Requirement already satisfied: idna<4,>=2.5 in /usr/local/lib/python3.9/dist-packages (from requests->transformers) (3.4)\n",
            "Installing collected packages: sentencepiece, transformers\n",
            "Successfully installed sentencepiece-0.1.97 transformers-4.27.4\n"
          ]
        },
        {
          "output_type": "display_data",
          "data": {
            "application/vnd.colab-display-data+json": {
              "pip_warning": {
                "packages": [
                  "transformers"
                ]
              }
            }
          },
          "metadata": {}
        }
      ],
      "source": [
        "!pip3 install --upgrade transformers\n",
        "!pip3 uninstall transformers sentencepiece\n",
        "!pip3 install transformers sentencepiece\n",
        "\n"
      ]
    },
    {
      "cell_type": "code",
      "source": [
        "from transformers import MarianTokenizer, MarianMTModel\n",
        "\n",
        "def back_translate(text, translation_model_name, back_translation_model_name):\n",
        "    # Tokenizers\n",
        "    translation_tokenizer = MarianTokenizer.from_pretrained(translation_model_name)\n",
        "    back_translation_tokenizer = MarianTokenizer.from_pretrained(back_translation_model_name)\n",
        "\n",
        "    # Models\n",
        "    translation_model = MarianMTModel.from_pretrained(translation_model_name)\n",
        "    back_translation_model = MarianMTModel.from_pretrained(back_translation_model_name)\n",
        "\n",
        "    # Translate text to intermediate language\n",
        "    translation_inputs = translation_tokenizer.encode(text, return_tensors=\"pt\")\n",
        "    translated_outputs = translation_model.generate(translation_inputs)\n",
        "    translated_text = translation_tokenizer.decode(translated_outputs[0])\n",
        "\n",
        "    # Translate translated_text back to the original language\n",
        "    back_translation_inputs = back_translation_tokenizer.encode(translated_text, return_tensors=\"pt\")\n",
        "    back_translated_outputs = back_translation_model.generate(back_translation_inputs)\n",
        "    back_translated_text = back_translation_tokenizer.decode(back_translated_outputs[0])\n",
        "\n",
        "    return back_translated_text\n",
        "\n",
        "# Example usage\n",
        "# translation_model_name = \"Helsinki-NLP/opus-mt-en-fr\"\n",
        "# back_translation_model_name = \"Helsinki-NLP/opus-mt-fr-en\"\n",
        "\n",
        "translation_model_name = \"Helsinki-NLP/opus-mt-en-zh\"\n",
        "back_translation_model_name = \"Helsinki-NLP/opus-mt-zh-en\"\n",
        "t\n",
        "text = \"I am feeling quite sad and exhausted.\"\n",
        "back_translated_text = back_translate(text, translation_model_name, back_translation_model_name)\n",
        "print(back_translated_text)\n"
      ],
      "metadata": {
        "colab": {
          "base_uri": "https://localhost:8080/"
        },
        "id": "KGZreWuUS3_m",
        "outputId": "24e14ab6-8e0e-4971-d623-f6be9c969ecc"
      },
      "execution_count": 5,
      "outputs": [
        {
          "output_type": "stream",
          "name": "stdout",
          "text": [
            "<pad> I'm very sad and tired.</s>\n"
          ]
        }
      ]
    },
    {
      "cell_type": "code",
      "source": [],
      "metadata": {
        "id": "VYyTH24US6cr"
      },
      "execution_count": null,
      "outputs": []
    }
  ]
}